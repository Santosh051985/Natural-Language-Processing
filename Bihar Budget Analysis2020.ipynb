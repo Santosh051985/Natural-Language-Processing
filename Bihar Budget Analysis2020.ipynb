{
 "cells": [
  {
   "cell_type": "markdown",
   "metadata": {},
   "source": [
    "#  Bihar Budget 2020 Analysis"
   ]
  },
  {
   "cell_type": "code",
   "execution_count": 5,
   "metadata": {},
   "outputs": [
    {
     "name": "stdout",
     "output_type": "stream",
     "text": [
      "Article's Title:\n",
      "Bihar Budget 2020: जनता की खुशहाली और धरती की हरियाली पर फोकस, जानें बिहार बजट की मुख्य बातें\n",
      "n\n"
     ]
    }
   ],
   "source": [
    "from newspaper import Article \n",
    "  \n",
    "#A new article from TOI \n",
    "url = \"https://www.jagran.com/bihar/patna-city-bihar-budget-2020-budget-will-be-presented-in-bihar-legislature-today-know-what-will-be-special-20061251.html\"\n",
    "#For different language newspaper refer above table \n",
    "dj_article = Article(url, language=\"en\") # en for English\n",
    "  \n",
    "#To download the article \n",
    "dj_article.download() \n",
    "  \n",
    "#To parse the article \n",
    "dj_article.parse() \n",
    "  \n",
    "#To perform natural language processing ie..nlp _article.nlp() \n",
    "  \n",
    "#To extract title \n",
    "print(\"Article's Title:\") \n",
    "print(toi_article.title) \n",
    "print(\"n\") "
   ]
  },
  {
   "cell_type": "code",
   "execution_count": 6,
   "metadata": {},
   "outputs": [
    {
     "name": "stdout",
     "output_type": "stream",
     "text": [
      "Article's Text:\n",
      "This website uses cookie or similar technologies, to enhance your browsing experience and provide personalised recommendations. By continuing to use our website, you agree to our Privacy Policy and Cookie Policy\n",
      "n\n",
      "Article's Summary:\n",
      "This website uses cookie or similar technologies, to enhance your browsing experience and provide personalised recommendations.\n",
      "By continuing to use our website, you agree to our Privacy Policy and Cookie Policy\n",
      "n\n",
      "Article's Keywords:\n",
      "['बजट', 'जनत', 'cookie', 'website', 'पर', 'technologies', 'फकस', 'provide', 'policy', 'बहर', 'क', 'privacy', 'recommendations', 'personalised', 'बत', 'similar', 'धरत', 'uses', 'हरयल', 'मखय']\n"
     ]
    }
   ],
   "source": [
    "#To extract text \n",
    "print(\"Article's Text:\") \n",
    "print(toi_article.text) \n",
    "print(\"n\") \n",
    "  \n",
    "#To extract summary \n",
    "print(\"Article's Summary:\") \n",
    "print(toi_article.summary) \n",
    "print(\"n\") \n",
    "  \n",
    "#To extract keywords \n",
    "print(\"Article's Keywords:\") \n",
    "print(toi_article.keywords) "
   ]
  },
  {
   "cell_type": "code",
   "execution_count": null,
   "metadata": {},
   "outputs": [],
   "source": []
  }
 ],
 "metadata": {
  "kernelspec": {
   "display_name": "Python 3",
   "language": "python",
   "name": "python3"
  },
  "language_info": {
   "codemirror_mode": {
    "name": "ipython",
    "version": 3
   },
   "file_extension": ".py",
   "mimetype": "text/x-python",
   "name": "python",
   "nbconvert_exporter": "python",
   "pygments_lexer": "ipython3",
   "version": "3.7.4"
  }
 },
 "nbformat": 4,
 "nbformat_minor": 2
}
