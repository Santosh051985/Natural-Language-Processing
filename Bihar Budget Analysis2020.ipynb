{
 "cells": [
  {
   "cell_type": "markdown",
   "metadata": {},
   "source": [
    "#  Bihar Budget 2020 Analysis"
   ]
  },
  {
   "cell_type": "code",
   "execution_count": 12,
   "metadata": {},
   "outputs": [
    {
     "name": "stdout",
     "output_type": "stream",
     "text": [
      "Article's Title:\n",
      "Bihar Budget: Highest fund allocation to education, healthcare sectors in proposed Rs 2.11 lakh cr budget\n",
      "n\n"
     ]
    }
   ],
   "source": [
    "from newspaper import Article \n",
    "  \n",
    "#A new article from TOI \n",
    "url = \"https://www.indiatvnews.com/news/india/bihar-budget-2020-education-sector-healthcare-sector-fund-allocation-rs-2-11-lakh-cr-592434\"\n",
    "#For different language newspaper refer above table \n",
    "dj_article = Article(url, language=\"en\") # en for English\n",
    "  \n",
    "#To download the article \n",
    "dj_article.download() \n",
    "  \n",
    "#To parse the article \n",
    "dj_article.parse() \n",
    "  \n",
    "#To perform natural language processing ie..nlp \n",
    "dj_article.nlp() \n",
    "  \n",
    "#To extract title \n",
    "print(\"Article's Title:\") \n",
    "print(dj_article.title) \n",
    "print(\"n\") "
   ]
  },
  {
   "cell_type": "code",
   "execution_count": 13,
   "metadata": {},
   "outputs": [
    {
     "name": "stdout",
     "output_type": "stream",
     "text": [
      "Article's Text:\n",
      "Image Source : PTI Bihar Budget: Highest fund allocation to education, healthcare sectors in proposed Rs 2.11 lakh cr budget\n",
      "\n",
      "The Nitish Kumar government on Tuesday presented a Rs 2.11 lakh crore budget for 2020-21 with special emphasis on education, health and infrastructure. Presenting the budget with a revenue surplus of Rs 19,172.80 crore, state Finance Minister Sushil Kumar Modi said the proposed allocations made for 2020-21 are Rs 11,260.48 crore more than the current fiscal's.\n",
      "\n",
      "The surplus revenue will be used for investment in the creation of assets such as roads, buildings, power infra, schools and health centres, Modi said.\n",
      "\n",
      "Bihar's budget has increased eight times to touch Rs 2,11,761.49 crore in 2020-21 from Rs 23,885 crore in 2004-05, Modi said in his 11th Budget speech.\n",
      "\n",
      "\"The increase in the size of the budget indicates that the state is witnessing a growth of double-digit for the past several years and we expect that we will be able to maintain the high growth momentum in the future as well,\" he told reporters after the budget presentation.\n",
      "\n",
      "The state government has made the highest allocation of Rs 35,191.05 crore to the education department. Besides, Rs 17,345 crore was allocated for road building and Rs 10,937.68 crore was earmarked for healthcare.\n",
      "\n",
      "Except for 2012-13, the state has been presenting a revenue surplus budget since 2008-09, said Modi who is also the deputy chief minister.\n",
      "\n",
      "The state's fiscal deficit has been estimated at Rs 20,374 crore in the budget, which is 2.97 per cent of the GSDP estimated at Rs 6,85,797 crore.\n",
      "\n",
      "\"We have kept the fiscal deficit target well within the 3 per cent limit. This is the reflection of better and prudent fiscal management,\" he said.\n",
      "\n",
      "The state allocated Rs 11,911.38 crore for the welfare of SC, ST, minorities and OBC and MBC, while Rs 12,83.50 crore was given to the home department.\n",
      "\n",
      "Modi said that Bihar will become the first state where all households will get piped drinking water, pucca road and drainage by next month.\n",
      "\n",
      "Asserting that the NDA government had to start from scratch when it took over the reins of the state in November 2005, he said that only three bridges could be built on river Ganga since Independence till 2005 but 13 bridges on the Ganges have been approved since 2005.\n",
      "\n",
      "Between 1990-91 and 2005-06, a total of Rs 38,925.77 crore was spent on education but it jumped to Rs 2,17,392 crore between 2006-07 and 2019-20, Modi said.\n",
      "\n",
      "Only one medical college was opened in 58 years since Independence whereas the NDA government opened 15 new medical colleges in the state since 2005, he said.\n",
      "\n",
      "ALSO READ | Bihar assembly passes unanimous resolution on NPR, NRC\n",
      "\n",
      "ALSO READ | Bihar assembly passes resolution not to implement NRC\n",
      "n\n",
      "Article's Summary:\n",
      "Image Source : PTI Bihar Budget: Highest fund allocation to education, healthcare sectors in proposed Rs 2.11 lakh cr budgetThe Nitish Kumar government on Tuesday presented a Rs 2.11 lakh crore budget for 2020-21 with special emphasis on education, health and infrastructure.\n",
      "Presenting the budget with a revenue surplus of Rs 19,172.80 crore, state Finance Minister Sushil Kumar Modi said the proposed allocations made for 2020-21 are Rs 11,260.48 crore more than the current fiscal's.\n",
      "Bihar's budget has increased eight times to touch Rs 2,11,761.49 crore in 2020-21 from Rs 23,885 crore in 2004-05, Modi said in his 11th Budget speech.\n",
      "Besides, Rs 17,345 crore was allocated for road building and Rs 10,937.68 crore was earmarked for healthcare.\n",
      "Except for 2012-13, the state has been presenting a revenue surplus budget since 2008-09, said Modi who is also the deputy chief minister.\n",
      "n\n",
      "Article's Keywords:\n",
      "['budget', 'surplus', 'modi', 'fund', 'crore', 'proposed', 'education', 'healthcare', 'bihar', 'sectors', 'fiscal', 'revenue', 'lakh', 'state', 'highest', 'rs', 'cr']\n"
     ]
    }
   ],
   "source": [
    "#To extract text \n",
    "print(\"Article's Text:\") \n",
    "print(dj_article.text) \n",
    "print(\"n\") \n",
    "  \n",
    "#To extract summary \n",
    "print(\"Article's Summary:\") \n",
    "print(dj_article.summary) \n",
    "print(\"n\") \n",
    "  \n",
    "#To extract keywords \n",
    "print(\"Article's Keywords:\") \n",
    "print(dj_article.keywords) "
   ]
  },
  {
   "cell_type": "code",
   "execution_count": 10,
   "metadata": {},
   "outputs": [
    {
     "name": "stdout",
     "output_type": "stream",
     "text": [
      "Article's Title:\n",
      "बिहार विधानसभा में 2.11 लाख करोड़ रुपये का बजट पेश, शिक्षा पर होगा सबसे ज्यादा खर्च\n",
      "n\n"
     ]
    }
   ],
   "source": [
    "from newspaper import Article \n",
    "  \n",
    "#A new article from TOI \n",
    "url = \"https://www.amarujala.com/bihar/bihar-budget-2020-rs-2-11-lakh-crore-budget-presented-in-assembly-more-expenditure-on-education\"\n",
    "#For different language newspaper refer above table \n",
    "au_article = Article(url, language=\"en\") # en for English\n",
    "  \n",
    "#To download the article \n",
    "au_article.download() \n",
    "  \n",
    "#To parse the article \n",
    "au_article.parse() \n",
    "  \n",
    "#To perform natural language processing ie..nlp \n",
    "au_article.nlp() \n",
    "  \n",
    "#To extract title \n",
    "print(\"Article's Title:\") \n",
    "print(au_article.title) \n",
    "print(\"n\") \n"
   ]
  },
  {
   "cell_type": "code",
   "execution_count": 11,
   "metadata": {},
   "outputs": [
    {
     "name": "stdout",
     "output_type": "stream",
     "text": [
      "Article's Text:\n",
      "\n",
      "n\n",
      "Article's Summary:\n",
      "\n",
      "n\n",
      "Article's Keywords:\n",
      "['बजट', 'जनत', 'cookie', 'website', 'पर', 'technologies', 'फकस', 'provide', 'policy', 'बहर', 'क', 'privacy', 'recommendations', 'personalised', 'बत', 'similar', 'धरत', 'uses', 'हरयल', 'मखय']\n"
     ]
    }
   ],
   "source": [
    "#To extract text \n",
    "print(\"Article's Text:\") \n",
    "print(au_article.text) \n",
    "print(\"n\") \n",
    "  \n",
    "#To extract summary \n",
    "print(\"Article's Summary:\") \n",
    "print(au_article.summary) \n",
    "print(\"n\") \n",
    "  \n",
    "#To extract keywords \n",
    "print(\"Article's Keywords:\") \n",
    "print(dj_article.keywords) \n"
   ]
  },
  {
   "cell_type": "code",
   "execution_count": null,
   "metadata": {},
   "outputs": [],
   "source": []
  }
 ],
 "metadata": {
  "kernelspec": {
   "display_name": "Python 3",
   "language": "python",
   "name": "python3"
  },
  "language_info": {
   "codemirror_mode": {
    "name": "ipython",
    "version": 3
   },
   "file_extension": ".py",
   "mimetype": "text/x-python",
   "name": "python",
   "nbconvert_exporter": "python",
   "pygments_lexer": "ipython3",
   "version": "3.7.4"
  }
 },
 "nbformat": 4,
 "nbformat_minor": 2
}
