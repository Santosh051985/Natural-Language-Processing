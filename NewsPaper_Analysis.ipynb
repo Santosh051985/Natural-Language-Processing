{
 "cells": [
  {
   "cell_type": "code",
   "execution_count": 1,
   "metadata": {},
   "outputs": [],
   "source": [
    "#NewsPaper Data Analysis"
   ]
  },
  {
   "cell_type": "code",
   "execution_count": 4,
   "metadata": {},
   "outputs": [
    {
     "name": "stdout",
     "output_type": "stream",
     "text": [
      "Article's Title:\n",
      "Coronavirus Live Updates: South Korea reports 171 new infections, Chinese city mulls dog meat ban\n",
      "n\n"
     ]
    }
   ],
   "source": [
    "from newspaper import Article \n",
    "  \n",
    "#A new article from TOI \n",
    "url = \"https://timesofindia.indiatimes.com/world/china/coronavirus-live-updates-chinas-shenzhen-city-prepares-ban-on-eating-cats-and-dogs-after-outbreak/liveblog/74327775.cms\"\n",
    "  \n",
    "#For different language newspaper refer above table \n",
    "toi_article = Article(url, language=\"en\") # en for English \n",
    "  \n",
    "#To download the article \n",
    "toi_article.download() \n",
    "  \n",
    "#To parse the article \n",
    "toi_article.parse() \n",
    "  \n",
    "#To perform natural language processing ie..nlp \n",
    "toi_article.nlp() \n",
    "  \n",
    "#To extract title \n",
    "print(\"Article's Title:\") \n",
    "print(toi_article.title) \n",
    "print(\"n\") "
   ]
  },
  {
   "cell_type": "code",
   "execution_count": 5,
   "metadata": {},
   "outputs": [
    {
     "name": "stdout",
     "output_type": "stream",
     "text": [
      "Article's Text:\n",
      "Trump mulls travel bans on Italy, S Korea over coronavirus\n",
      "\n",
      "Donald Trump has said he was considering US travel restrictions on Italy and South Korea over coronavirus fears, adding the situation would not inevitably worsen in the United States. The president's optimism about containing the pathogen contradicted a senior health official in his own administration and came as authorities said they had identified the first case of unknown origin in the United States.\n",
      "n\n",
      "Article's Summary:\n",
      "Trump mulls travel bans on Italy, S Korea over coronavirusDonald Trump has said he was considering US travel restrictions on Italy and South Korea over coronavirus fears, adding the situation would not inevitably worsen in the United States.\n",
      "The president's optimism about containing the pathogen contradicted a senior health official in his own administration and came as authorities said they had identified the first case of unknown origin in the United States.\n",
      "n\n",
      "Article's Keywords:\n",
      "['italy', 'unknown', 'trump', 'live', 'korea', 'updates', 'infections', 'south', 'situation', 'coronavirus', 'travel', 'worsen', 'mulls', 'reports', 'dog', 'meat', 'states', 'united']\n"
     ]
    }
   ],
   "source": [
    "#To extract text \n",
    "print(\"Article's Text:\") \n",
    "print(toi_article.text) \n",
    "print(\"n\") \n",
    "  \n",
    "#To extract summary \n",
    "print(\"Article's Summary:\") \n",
    "print(toi_article.summary) \n",
    "print(\"n\") \n",
    "  \n",
    "#To extract keywords \n",
    "print(\"Article's Keywords:\") \n",
    "print(toi_article.keywords) "
   ]
  },
  {
   "cell_type": "code",
   "execution_count": null,
   "metadata": {},
   "outputs": [],
   "source": []
  }
 ],
 "metadata": {
  "kernelspec": {
   "display_name": "Python 3",
   "language": "python",
   "name": "python3"
  },
  "language_info": {
   "codemirror_mode": {
    "name": "ipython",
    "version": 3
   },
   "file_extension": ".py",
   "mimetype": "text/x-python",
   "name": "python",
   "nbconvert_exporter": "python",
   "pygments_lexer": "ipython3",
   "version": "3.7.4"
  }
 },
 "nbformat": 4,
 "nbformat_minor": 2
}
