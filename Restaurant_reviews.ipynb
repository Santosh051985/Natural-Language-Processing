{
 "cells": [
  {
   "cell_type": "markdown",
   "metadata": {},
   "source": [
    "# NLP analysis of Restaurant reviews"
   ]
  },
  {
   "cell_type": "code",
   "execution_count": 1,
   "metadata": {},
   "outputs": [],
   "source": [
    "# Importing Libraries \n",
    "import numpy as np   \n",
    "import pandas as pd  \n",
    "  \n",
    "# Import dataset \n",
    "dataset = pd.read_csv('c:\\\\Users\\\\HP\\\\Downloads\\\\Restaurant_Reviews.tsv', delimiter = '\\t')  "
   ]
  },
  {
   "cell_type": "code",
   "execution_count": 2,
   "metadata": {},
   "outputs": [
    {
     "name": "stderr",
     "output_type": "stream",
     "text": [
      "[nltk_data] Downloading package stopwords to\n",
      "[nltk_data]     C:\\Users\\HP\\AppData\\Roaming\\nltk_data...\n",
      "[nltk_data]   Package stopwords is already up-to-date!\n"
     ]
    },
    {
     "data": {
      "text/plain": [
       "True"
      ]
     },
     "execution_count": 2,
     "metadata": {},
     "output_type": "execute_result"
    }
   ],
   "source": [
    "# library to clean data \n",
    "import re  \n",
    "  \n",
    "# Natural Language Tool Kit \n",
    "import nltk  \n",
    "  \n",
    "nltk.download('stopwords') \n",
    "  "
   ]
  },
  {
   "cell_type": "code",
   "execution_count": 3,
   "metadata": {},
   "outputs": [],
   "source": [
    "# to remove stopword \n",
    "from nltk.corpus import stopwords \n",
    "  \n",
    "# for Stemming propose  \n",
    "from nltk.stem.porter import PorterStemmer \n",
    "  \n",
    "# Initialize empty array \n",
    "# to append clean text  \n",
    "corpus = []  "
   ]
  },
  {
   "cell_type": "code",
   "execution_count": 4,
   "metadata": {},
   "outputs": [],
   "source": [
    "# 1000 (reviews) rows to clean \n",
    "for i in range(0, 1000):  \n",
    "      \n",
    "    # column : \"Review\", row ith \n",
    "    review = re.sub('[^a-zA-Z]', ' ', dataset['Review'][i])  \n",
    "      \n",
    "    # convert all cases to lower cases \n",
    "    review = review.lower()  \n",
    "      \n",
    "    # split to array(default delimiter is \" \") \n",
    "    review = review.split()  \n",
    "      \n",
    "    # creating PorterStemmer object to \n",
    "    # take main stem of each word \n",
    "    ps = PorterStemmer()  \n",
    "      \n",
    "    # loop for stemming each word \n",
    "    # in string array at ith row     \n",
    "    review = [ps.stem(word) for word in review \n",
    "                if not word in set(stopwords.words('english'))]  \n",
    "                  \n",
    "    # rejoin all string array elements \n",
    "    # to create back into a string \n",
    "    review = ' '.join(review)   \n",
    "      \n",
    "    # append each string to create \n",
    "    # array of clean text  \n",
    "    corpus.append(review)  "
   ]
  },
  {
   "cell_type": "code",
   "execution_count": 5,
   "metadata": {},
   "outputs": [],
   "source": [
    "# Creating the Bag of Words model \n",
    "from sklearn.feature_extraction.text import CountVectorizer \n",
    "  \n",
    "# To extract max 1500 feature. \n",
    "# \"max_features\" is attribute to \n",
    "# experiment with to get better results \n",
    "cv = CountVectorizer(max_features = 1500)  \n",
    "  \n",
    "# X contains corpus (dependent variable) \n",
    "X = cv.fit_transform(corpus).toarray()  \n",
    "  \n",
    "# y contains answers if review \n",
    "# is positive or negative \n",
    "y = dataset.iloc[:, 1].values"
   ]
  },
  {
   "cell_type": "code",
   "execution_count": 7,
   "metadata": {},
   "outputs": [],
   "source": [
    "# Splitting the dataset into \n",
    "# the Training set and Test set \n",
    "#from sklearn.cross_validation import train_test_split \n",
    "from sklearn.model_selection import train_test_split\n",
    "# experiment with \"test_size\" \n",
    "# to get better results \n",
    "X_train, X_test, y_train, y_test = train_test_split(X, y, test_size = 0.25) \n"
   ]
  },
  {
   "cell_type": "code",
   "execution_count": 8,
   "metadata": {},
   "outputs": [
    {
     "data": {
      "text/plain": [
       "RandomForestClassifier(bootstrap=True, class_weight=None, criterion='entropy',\n",
       "                       max_depth=None, max_features='auto', max_leaf_nodes=None,\n",
       "                       min_impurity_decrease=0.0, min_impurity_split=None,\n",
       "                       min_samples_leaf=1, min_samples_split=2,\n",
       "                       min_weight_fraction_leaf=0.0, n_estimators=501,\n",
       "                       n_jobs=None, oob_score=False, random_state=None,\n",
       "                       verbose=0, warm_start=False)"
      ]
     },
     "execution_count": 8,
     "metadata": {},
     "output_type": "execute_result"
    }
   ],
   "source": [
    "\n",
    "# Fitting Random Forest Classification \n",
    "# to the Training set \n",
    "from sklearn.ensemble import RandomForestClassifier \n",
    "  \n",
    "# n_estimators can be said as number of \n",
    "# trees, experiment with n_estimators \n",
    "# to get better results  \n",
    "model = RandomForestClassifier(n_estimators = 501, \n",
    "                            criterion = 'entropy') \n",
    "                              \n",
    "model.fit(X_train, y_train)  \n"
   ]
  },
  {
   "cell_type": "code",
   "execution_count": 9,
   "metadata": {},
   "outputs": [
    {
     "data": {
      "text/plain": [
       "array([0, 0, 1, 1, 1, 1, 0, 0, 1, 0, 1, 0, 1, 0, 0, 0, 0, 1, 0, 0, 1, 0,\n",
       "       0, 1, 0, 0, 0, 0, 0, 0, 0, 0, 0, 0, 0, 0, 1, 1, 1, 0, 1, 1, 0, 1,\n",
       "       0, 0, 0, 1, 0, 0, 1, 0, 0, 1, 0, 0, 0, 1, 0, 1, 1, 1, 0, 0, 0, 0,\n",
       "       1, 0, 0, 0, 0, 0, 1, 1, 0, 0, 0, 0, 0, 1, 1, 1, 0, 0, 1, 0, 1, 0,\n",
       "       0, 0, 1, 0, 1, 0, 0, 1, 0, 0, 0, 1, 0, 0, 0, 1, 1, 1, 1, 1, 1, 0,\n",
       "       0, 0, 0, 0, 1, 0, 0, 1, 0, 1, 1, 0, 1, 0, 0, 1, 0, 0, 1, 1, 0, 1,\n",
       "       0, 1, 1, 1, 0, 1, 0, 0, 0, 0, 1, 0, 0, 0, 0, 0, 1, 0, 0, 0, 1, 0,\n",
       "       0, 0, 1, 0, 0, 1, 1, 1, 0, 0, 0, 1, 0, 0, 0, 0, 0, 1, 0, 0, 1, 0,\n",
       "       1, 1, 1, 0, 0, 0, 0, 0, 1, 0, 0, 1, 1, 0, 0, 1, 0, 1, 1, 1, 0, 0,\n",
       "       1, 1, 0, 0, 0, 0, 0, 1, 0, 0, 0, 0, 0, 1, 0, 1, 1, 0, 1, 0, 0, 0,\n",
       "       0, 1, 0, 1, 0, 1, 0, 0, 1, 1, 0, 0, 1, 0, 0, 1, 0, 1, 0, 0, 1, 0,\n",
       "       0, 0, 0, 0, 0, 0, 0, 1], dtype=int64)"
      ]
     },
     "execution_count": 9,
     "metadata": {},
     "output_type": "execute_result"
    }
   ],
   "source": [
    "\n",
    "# Predicting the Test set results \n",
    "y_pred = model.predict(X_test) \n",
    "  \n",
    "y_pred \n"
   ]
  },
  {
   "cell_type": "code",
   "execution_count": 10,
   "metadata": {},
   "outputs": [
    {
     "data": {
      "text/plain": [
       "array([[109,  14],\n",
       "       [ 50,  77]], dtype=int64)"
      ]
     },
     "execution_count": 10,
     "metadata": {},
     "output_type": "execute_result"
    }
   ],
   "source": [
    "# Making the Confusion Matrix \n",
    "from sklearn.metrics import confusion_matrix \n",
    "  \n",
    "cm = confusion_matrix(y_test, y_pred) \n",
    "  \n",
    "cm \n"
   ]
  },
  {
   "cell_type": "code",
   "execution_count": null,
   "metadata": {},
   "outputs": [],
   "source": []
  }
 ],
 "metadata": {
  "kernelspec": {
   "display_name": "Python 3",
   "language": "python",
   "name": "python3"
  },
  "language_info": {
   "codemirror_mode": {
    "name": "ipython",
    "version": 3
   },
   "file_extension": ".py",
   "mimetype": "text/x-python",
   "name": "python",
   "nbconvert_exporter": "python",
   "pygments_lexer": "ipython3",
   "version": "3.7.4"
  }
 },
 "nbformat": 4,
 "nbformat_minor": 2
}
